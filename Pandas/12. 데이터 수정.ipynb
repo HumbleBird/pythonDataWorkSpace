{
 "cells": [
  {
   "cell_type": "markdown",
   "id": "c7ac3835-502c-4728-ac02-6c394bb5fd0a",
   "metadata": {},
   "source": [
    "# 12. 데이터 수정"
   ]
  },
  {
   "cell_type": "code",
   "execution_count": null,
   "id": "2a61a51a-ffae-48c5-9b03-6d4c91c47911",
   "metadata": {},
   "outputs": [],
   "source": [
    "import pandas as pd\n",
    "\n",
    "df = pd.read_excel('score.xlsx', index_col='지원번호')\n",
    "df"
   ]
  },
  {
   "cell_type": "markdown",
   "id": "19467ebd-67ed-4988-976c-612598903116",
   "metadata": {},
   "source": [
    "## Column 수정"
   ]
  },
  {
   "cell_type": "code",
   "execution_count": null,
   "id": "28ab77bb-8f58-4380-bf98-51f8052ed34b",
   "metadata": {},
   "outputs": [],
   "source": [
    "df['학교'] = df['학교'].replace({'북산고': '상북고'})\n"
   ]
  },
  {
   "cell_type": "code",
   "execution_count": null,
   "id": "0782d533-ebed-4b04-85dd-f2ff0ef7bf7d",
   "metadata": {},
   "outputs": [],
   "source": [
    "df"
   ]
  },
  {
   "cell_type": "code",
   "execution_count": null,
   "id": "930b4a30-d812-4f8d-924a-3660f6e176a7",
   "metadata": {},
   "outputs": [],
   "source": [
    "df['SW특기'].str.lower()"
   ]
  },
  {
   "cell_type": "code",
   "execution_count": null,
   "id": "b0809d92-c558-41f8-82ae-02015bd38260",
   "metadata": {},
   "outputs": [],
   "source": [
    "df['SW특기'] = df['SW특기'].str.lower()\n",
    "df"
   ]
  },
  {
   "cell_type": "code",
   "execution_count": null,
   "id": "9857cd99-f839-4864-af0e-8b97455009bc",
   "metadata": {},
   "outputs": [],
   "source": [
    "df['SW특기'] = df['SW특기'].str.upper()\n",
    "df"
   ]
  },
  {
   "cell_type": "code",
   "execution_count": null,
   "id": "ab5a2a50-239e-4fb1-a59f-cd400cd73ba5",
   "metadata": {},
   "outputs": [],
   "source": [
    "df['학교'] = df['학교'] + '등학교' # 학교 데이터 + 등하교\n",
    "df"
   ]
  },
  {
   "cell_type": "markdown",
   "id": "d4970c58-108d-4c3b-af8f-f02bbbe403cc",
   "metadata": {},
   "source": [
    "## Column 추가"
   ]
  },
  {
   "cell_type": "code",
   "execution_count": null,
   "id": "b7b496b9-62c7-4295-8dd2-4ba8e3dd0856",
   "metadata": {},
   "outputs": [],
   "source": [
    "df['총합'] = df['국어'] +  df['영어'] + df['수학'] + df['과학'] + df['사회']\n",
    "df"
   ]
  },
  {
   "cell_type": "code",
   "execution_count": null,
   "id": "e0761377-3366-463a-b109-cdad68bb5c8c",
   "metadata": {},
   "outputs": [],
   "source": [
    "df['결과'] = 'Fail' # 결과 Clumn 을 추가하고 전체 데이터는 Fail 로 초기화"
   ]
  },
  {
   "cell_type": "code",
   "execution_count": null,
   "id": "d77e2374-3c8e-4e74-88a9-bc71c861cfc1",
   "metadata": {},
   "outputs": [],
   "source": [
    "df"
   ]
  },
  {
   "cell_type": "code",
   "execution_count": null,
   "id": "259a1257-4aef-474f-9eed-531c4993ecfa",
   "metadata": {},
   "outputs": [],
   "source": [
    "df.loc[df['총합'] > 400, '결과'] = 'Pass' # 총합이 400보다 큰 데이터에 대해서 결과를 Pass 로 업데이트\n",
    "df"
   ]
  },
  {
   "cell_type": "markdown",
   "id": "641f1df3-1615-44e5-ba8d-aa112ca78db0",
   "metadata": {},
   "source": [
    "## Column 삭제"
   ]
  },
  {
   "cell_type": "code",
   "execution_count": null,
   "id": "fc8a47b0-082a-44a0-b543-de0090197da6",
   "metadata": {},
   "outputs": [],
   "source": [
    "df.drop(columns=['총합']) # 총합 columns 을 삭제"
   ]
  },
  {
   "cell_type": "code",
   "execution_count": null,
   "id": "6f6bc516-6d7f-42fa-a185-9c74a01a043c",
   "metadata": {},
   "outputs": [],
   "source": [
    "df.drop(columns=['국어', '영어', '수학']) # 국어, 영어, 수학 column 을 삭제"
   ]
  },
  {
   "cell_type": "code",
   "execution_count": null,
   "id": "94f6a5e1-5fca-4887-a53e-a0adf121037c",
   "metadata": {},
   "outputs": [],
   "source": [
    "df"
   ]
  },
  {
   "cell_type": "markdown",
   "id": "0f2a89ce-bb21-4961-86c3-f3b995fdfd36",
   "metadata": {},
   "source": [
    "## Row 삭제"
   ]
  },
  {
   "cell_type": "code",
   "execution_count": null,
   "id": "41a68659-eee5-46a9-ac50-1bd059a71361",
   "metadata": {},
   "outputs": [],
   "source": [
    "\n",
    "df.drop(index='4번') # 4번 학생 데이터 row 를 삭제"
   ]
  },
  {
   "cell_type": "code",
   "execution_count": null,
   "id": "a96f2196-31b2-4d45-a9d9-215b73d86d31",
   "metadata": {},
   "outputs": [],
   "source": [
    "filt = df['수학'] < 80 # 수학 점수 80점 미만 학생 필터링\n",
    "df[filt]"
   ]
  },
  {
   "cell_type": "code",
   "execution_count": null,
   "id": "dec555ca-b6ad-426b-af8a-12c63c01af27",
   "metadata": {},
   "outputs": [],
   "source": [
    "df[filt].index"
   ]
  },
  {
   "cell_type": "code",
   "execution_count": null,
   "id": "e1aabc95-44fd-44ba-b149-9b3d2da4ab79",
   "metadata": {},
   "outputs": [],
   "source": [
    "\n",
    "df.drop(index=df[filt].index)"
   ]
  },
  {
   "cell_type": "code",
   "execution_count": null,
   "id": "3b4166fc-9fb6-4b30-b073-f290885eabe4",
   "metadata": {},
   "outputs": [],
   "source": [
    "df"
   ]
  },
  {
   "cell_type": "code",
   "execution_count": null,
   "id": "1d0bf08e-28a4-41ec-b01f-cab467b5409d",
   "metadata": {},
   "outputs": [],
   "source": []
  },
  {
   "cell_type": "markdown",
   "id": "db05c245-24c4-4bc2-9898-87e5c54e8886",
   "metadata": {},
   "source": [
    "## Row 추가"
   ]
  },
  {
   "cell_type": "code",
   "execution_count": null,
   "id": "0b283e9b-94b1-449d-8f7b-cecda32e4e2d",
   "metadata": {},
   "outputs": [],
   "source": [
    "df.loc['9번'] = ['이정환', '해남고등학교', 184, 90, 90, 90, 90 ,90, 'Kotlin', 450, 'Pass'] # 새로운 Row 추가\n",
    "df"
   ]
  },
  {
   "cell_type": "markdown",
   "id": "17b4fcc6-d1bf-4325-8a7b-4faf2c75a8d6",
   "metadata": {},
   "source": [
    "## Cell 수정"
   ]
  },
  {
   "cell_type": "code",
   "execution_count": null,
   "id": "53f09f4a-a2ec-48fa-adb5-bfa66841184d",
   "metadata": {},
   "outputs": [],
   "source": [
    "df.loc['4번', 'SW특기'] = 'Python' # 4번 학생의 SW 특기 데이터를 Python으로 변경\n",
    "df"
   ]
  },
  {
   "cell_type": "code",
   "execution_count": null,
   "id": "e9a74ad7-b65b-4be5-b689-16486b0f69a8",
   "metadata": {},
   "outputs": [],
   "source": [
    "df.loc['5번', ['학교', 'SW특기']] = ['능남고등학교', 'C'] # 5번 학생의 학교는 능남고등학교로, SW특기는 C로 변경\n",
    "df"
   ]
  },
  {
   "cell_type": "markdown",
   "id": "2ef2b710-3ca7-4164-8956-0c264c950f76",
   "metadata": {},
   "source": [
    "## Column 순서 변경"
   ]
  },
  {
   "cell_type": "code",
   "execution_count": null,
   "id": "eec5bd06-b02f-4899-b352-87c472f85713",
   "metadata": {},
   "outputs": [],
   "source": [
    "cols = list(df.columns)\n",
    "cols"
   ]
  },
  {
   "cell_type": "code",
   "execution_count": null,
   "id": "08ebfd52-47ea-4864-ac75-a3470f02b864",
   "metadata": {},
   "outputs": [],
   "source": [
    "df = df[['결과', '이름','학교']]\n",
    "df"
   ]
  },
  {
   "cell_type": "code",
   "execution_count": null,
   "id": "5e419f97-1c35-4d11-94be-4811e869d133",
   "metadata": {},
   "outputs": [],
   "source": [
    "df = df[[cols[-1]] + cols[0:-1]]\n",
    "df"
   ]
  },
  {
   "cell_type": "code",
   "execution_count": null,
   "id": "c6eb76ff-816e-4c65-9702-e79c8068d44e",
   "metadata": {},
   "outputs": [],
   "source": [
    "df.columns = ['Result', 'Name', 'School']\n",
    "df"
   ]
  },
  {
   "cell_type": "markdown",
   "id": "5314b62b-bd03-4094-9419-98e62d67620d",
   "metadata": {},
   "source": [
    "## Column 이름 변경"
   ]
  },
  {
   "cell_type": "code",
   "execution_count": null,
   "id": "81b00bc2-a5cc-4c09-899a-0e2d76be49c4",
   "metadata": {},
   "outputs": [],
   "source": [
    "df"
   ]
  },
  {
   "cell_type": "code",
   "execution_count": null,
   "id": "989e94b0-11e6-4b12-9f62-264f37a38a6a",
   "metadata": {},
   "outputs": [],
   "source": [
    "df.columns"
   ]
  },
  {
   "cell_type": "code",
   "execution_count": null,
   "id": "5d6dc34f-728f-4545-9f8f-02c438279bbe",
   "metadata": {},
   "outputs": [],
   "source": []
  },
  {
   "cell_type": "code",
   "execution_count": null,
   "id": "87d6e51e-70d0-428a-b9fc-6986f047faaa",
   "metadata": {},
   "outputs": [],
   "source": []
  }
 ],
 "metadata": {
  "kernelspec": {
   "display_name": "Python 3 (ipykernel)",
   "language": "python",
   "name": "python3"
  },
  "language_info": {
   "codemirror_mode": {
    "name": "ipython",
    "version": 3
   },
   "file_extension": ".py",
   "mimetype": "text/x-python",
   "name": "python",
   "nbconvert_exporter": "python",
   "pygments_lexer": "ipython3",
   "version": "3.12.7"
  }
 },
 "nbformat": 4,
 "nbformat_minor": 5
}
